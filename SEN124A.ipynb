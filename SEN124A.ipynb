{
 "cells": [
  {
   "cell_type": "code",
   "execution_count": null,
   "id": "8451a95f",
   "metadata": {},
   "outputs": [],
   "source": [
    "import networkx as nx\n",
    "import matplotlib.pyplot as plt"
   ]
  },
  {
   "cell_type": "code",
   "execution_count": null,
   "id": "dec768b1",
   "metadata": {},
   "outputs": [],
   "source": [
    "#put our network here\n",
    "G=nx.Graph([])"
   ]
  },
  {
   "cell_type": "code",
   "execution_count": null,
   "id": "24a4b227",
   "metadata": {},
   "outputs": [],
   "source": [
    "#Betweeness Centrality\n",
    "nx.betweenness_centrality(G)"
   ]
  },
  {
   "cell_type": "code",
   "execution_count": null,
   "id": "2175fc54",
   "metadata": {},
   "outputs": [],
   "source": [
    "#Eigen Vector Centrality\n",
    "nx.betweenness_centrality(G)"
   ]
  },
  {
   "cell_type": "code",
   "execution_count": null,
   "id": "452181c4",
   "metadata": {},
   "outputs": [],
   "source": [
    "#Local Bridges \n",
    "set(nx.local_bridges(G,with_span=True))"
   ]
  },
  {
   "cell_type": "code",
   "execution_count": null,
   "id": "272988f9",
   "metadata": {},
   "outputs": [],
   "source": [
    "#Compute shortest path lengths between all nodes in a weighted graph.\n",
    "length = dict(nx.all_pairs_dijkstra_path_length(G))\n",
    "for node in [0, 1, 2, 3, 4]:\n",
    "    print(f\"1 - {node}: {length[1][node]}\")\n"
   ]
  },
  {
   "cell_type": "code",
   "execution_count": null,
   "id": "cad26399",
   "metadata": {},
   "outputs": [],
   "source": [
    "#Compute degree centrality for nodes\n",
    "nx.degree_centrality(G)"
   ]
  },
  {
   "cell_type": "code",
   "execution_count": null,
   "id": "6433462c",
   "metadata": {},
   "outputs": [],
   "source": [
    "#Compute closeness centrality for nodes\n",
    "nx.closeness_centrality(G)"
   ]
  },
  {
   "cell_type": "code",
   "execution_count": null,
   "id": "588e156d",
   "metadata": {},
   "outputs": [],
   "source": [
    "#Compute the shortest-path betweenness centrality for nodes.\n",
    "#Betweenness centrality of a node V is the sum of the fraction of all-pairs shortest paths that pass through V \n",
    "nx.betweenness_centrality(G)"
   ]
  }
 ],
 "metadata": {
  "kernelspec": {
   "display_name": "Python 3 (ipykernel)",
   "language": "python",
   "name": "python3"
  },
  "language_info": {
   "codemirror_mode": {
    "name": "ipython",
    "version": 3
   },
   "file_extension": ".py",
   "mimetype": "text/x-python",
   "name": "python",
   "nbconvert_exporter": "python",
   "pygments_lexer": "ipython3",
   "version": "3.11.4"
  }
 },
 "nbformat": 4,
 "nbformat_minor": 5
}
